{
 "cells": [
  {
   "cell_type": "code",
   "execution_count": 1,
   "metadata": {},
   "outputs": [],
   "source": [
    "from langchain_openai import ChatOpenAI\n",
    "\n",
    "import config\n",
    "\n",
    "llm = ChatOpenAI(\n",
    "    model=\"gpt-4o-mini\",\n",
    "    api_key=config.OPENAI_API_KEY\n",
    ")"
   ]
  },
  {
   "cell_type": "code",
   "execution_count": 2,
   "metadata": {},
   "outputs": [],
   "source": [
    "from typing import TypedDict, Annotated, List\n",
    "import operator\n",
    "\n",
    "class State(TypedDict):\n",
    "    question: str\n",
    "    answer: str\n",
    "    context: Annotated[List, operator.add]"
   ]
  },
  {
   "cell_type": "code",
   "execution_count": 3,
   "metadata": {},
   "outputs": [],
   "source": [
    "import os\n",
    "from typing import Dict, List\n",
    "\n",
    "from langchain_core.messages import HumanMessage, SystemMessage\n",
    "\n",
    "from langchain_community.document_loaders import WikipediaLoader\n",
    "from langchain_community.tools.tavily_search import TavilySearchResults"
   ]
  },
  {
   "cell_type": "code",
   "execution_count": 4,
   "metadata": {},
   "outputs": [],
   "source": [
    "def search_web(state: State) -> Dict[str, List[str]]:\n",
    "    \"\"\"Retrieve docs from web search\"\"\"\n",
    "\n",
    "    os.environ[\"TAVILY_API_KEY\"] = config.TAVILY_API_KEY\n",
    "\n",
    "    tavily_search = TavilySearchResults(\n",
    "        max_results=3)\n",
    "    search_docs = tavily_search.invoke(state[\"question\"])\n",
    "\n",
    "    formatted_search_docs = \"\\n\\n---\\n\\n\".join(\n",
    "        [\n",
    "            f\"\"\"<Document href=\"{doc[\"url\"]}\"/>\\n{doc[\"content\"]}</Document>\"\"\"\n",
    "            for doc in search_docs\n",
    "        ]\n",
    "    )\n",
    "\n",
    "    return {\"context\": [formatted_search_docs]}\n",
    "    "
   ]
  },
  {
   "cell_type": "code",
   "execution_count": 5,
   "metadata": {},
   "outputs": [],
   "source": [
    "def search_wikipedia(state: State) -> Dict[str, List[str]]:\n",
    "    \"\"\"Retrieve docs from wikipedia search\"\"\"\n",
    "\n",
    "    search_docs = WikipediaLoader(\n",
    "        query=state[\"question\"],\n",
    "        load_max_docs=2\n",
    "    ).load()\n",
    "\n",
    "    formatted_search_docs = \"\\n\\n---\\n\\n\".join(\n",
    "        [\n",
    "            f\"\"\"<Document source=\"{doc.metadata[\"source\"]}\" page=\"{doc.metadata.get(\"page\", \"\")}\"/>\\n{doc.page_content}</Document>\"\"\"\n",
    "            for doc in search_docs\n",
    "        ]\n",
    "    )\n",
    "\n",
    "    return {\"context\": [formatted_search_docs]}"
   ]
  },
  {
   "cell_type": "code",
   "execution_count": 6,
   "metadata": {},
   "outputs": [],
   "source": [
    "def generate_answer(state: State) -> Dict[str, str]:\n",
    "    \"\"\"Node to answer a question.\"\"\"\n",
    "\n",
    "    context = state[\"context\"]\n",
    "    question = state[\"question\"]\n",
    "\n",
    "    answer_templat = \"\"\"Answer the question {question} using the context: {context}\"\"\"\n",
    "    answer_instructions = answer_templat.format(\n",
    "        question=question,\n",
    "        context=context\n",
    "    )\n",
    "\n",
    "    answer = llm.invoke(\n",
    "        [\n",
    "            SystemMessage(content=answer_instructions, name=\"System\"),\n",
    "            HumanMessage(content=question, name=\"User\")\n",
    "        ]\n",
    "    )\n",
    "\n",
    "    return {\"answer\": answer.content}"
   ]
  },
  {
   "cell_type": "code",
   "execution_count": 7,
   "metadata": {},
   "outputs": [],
   "source": [
    "from langgraph.graph import StateGraph, START, END\n",
    "from IPython.display import Image, display"
   ]
  },
  {
   "cell_type": "code",
   "execution_count": 8,
   "metadata": {},
   "outputs": [
    {
     "data": {
      "image/png": "[encoded data removed]",
      "text/plain": [
       "<IPython.core.display.Image object>"
      ]
     },
     "metadata": {},
     "output_type": "display_data"
    }
   ],
   "source": [
    "builder = StateGraph(State)\n",
    "\n",
    "builder.add_node(\"search_web\", search_web)\n",
    "builder.add_node(\"search_wikipedia\", search_wikipedia)\n",
    "builder.add_node(\"generate_answer\", generate_answer)\n",
    "\n",
    "builder.add_edge(START, \"search_wikipedia\")\n",
    "builder.add_edge(START, \"search_web\")\n",
    "builder.add_edge(\"search_wikipedia\", \"generate_answer\")\n",
    "builder.add_edge(\"search_web\", \"generate_answer\")\n",
    "builder.add_edge(\"generate_answer\", END)\n",
    "\n",
    "graph = builder.compile()\n",
    "\n",
    "display(Image(graph.get_graph().draw_mermaid_png()))"
   ]
  },
  {
   "cell_type": "code",
   "execution_count": 10,
   "metadata": {},
   "outputs": [
    {
     "name": "stdout",
     "output_type": "stream",
     "text": [
      "{'question': 'what are expectations for Nvidia Q1 2025 earnings?', 'answer': \"For Nvidia's Q1 2025 earnings, expectations indicate total revenues of approximately $24.7 billion, which has remained stable since Q4 2024. Recent trends show that while there has been some stabilization in analysts' upward revisions for the Data Center segment, guidance for Q2 and FY 2025 will be crucial to observe, especially concerning continued higher pricing and volumes. As of now, the consensus for the Data Center segment for FY 2025 has been revised upward by an additional $4.2 billion to reach $97.7 billion.\\n\\nHowever, Nvidia's actual reported revenues came in higher than expected at $26.0 billion for the first quarter, marking an 18% increase from the previous quarter and a substantial 262% increase year-over-year. Additionally, the earnings per share (EPS) was reported at $5.98, reflecting a 21% quarter-over-quarter increase and a remarkable 629% increase from the same period last year. Overall, Nvidia's Q1 2025 results exceeded both revenue and EPS expectations.\", 'context': ['<Document href=\"https://visiblealpha.com/blog/nvidia-nvda-earnings-preview-fiscal-q1-2025/\"/>\\nAccording to Visible Alpha consensus, total revenues of $24.7 billion expected for fiscal Q1 2025 have not moved much from fiscal Q4 2024 earnings in February. While the pace of analysts’ upward revisions to the Data Center segment has stabilized since the Q3 release in late November, it will be important to see how Nvidia guides the market for Q2 and FY 2025, and to what extent higher pricing and volumes will be expected to continue. For FY 2025, Visible Alpha consensus for this segment has increased an additional $4.2 billion to $97.7 billion since the Q4 2024 release in February. https://visiblealpha.com/wp-content/uploads/2024/05/Nvidia-NVDA-Earnings-Preview_-Fiscal-Q1-2025.jpg 628 1200 Melissa Otto, CFA https://visiblealpha.com/wp-content/uploads/2024/05/visible-alpha-sp-logo.png Melissa Otto, CFA2024-05-16 08:44:322024-05-16 08:44:32Nvidia (NVDA) Earnings Preview: Fiscal Q1 2025</Document>\\n\\n---\\n\\n<Document href=\"https://www.shacknews.com/article/139964/nvidia-nvda-q1-2025-earnings-results\"/>\\nNVIDIA (NVDA) Q1 2025 earnings results beat revenue & EPS expectations | Shacknews Video Game Release Dates 2024Elden Ring strategy guideShacknews Direct: Introducing Bubbletron!Destiny 2 Complete Strategy Guide Video Game Release Dates 2024Elden Ring strategy guideShacknews Direct: Introducing Bubbletron!Destiny 2 Complete Strategy Guide NVIDIA (NVDA) Q1 2025 earnings results beat revenue & EPS expectations Today, the company released its earnings report for Q1 2025, showing a beat on both revenue and EPS expectations. Pokémon Emerald, Halo 2, and the original Star Wars Battlefront 2 were some of the most influential titles in awakening his love for video games. Donovan Erskine posted a new article, NVIDIA (NVDA) Q1 2025 earnings results beat revenue & EPS expectations</Document>\\n\\n---\\n\\n<Document href=\"https://nvidianews.nvidia.com/news/nvidia-announces-financial-results-for-first-quarter-fiscal-2025\"/>\\nNVIDIA (NASDAQ: NVDA) today reported revenue for the first quarter ended April 28, 2024, of $26.0 billion, up 18% from the previous quarter and up 262% from a year ago. For the quarter, GAAP earnings per diluted share was $5.98, up 21% from the previous quarter and up 629% from a year ago.</Document>', '<Document source=\"https://en.wikipedia.org/wiki/Big_Tech\" page=\"\"/>\\nBig Tech, also known as the Tech Giants or Tech Titans, is a grouping of the largest IT companies in the world. The concept of Big Tech is similar to the grouping of dominant companies in other sectors. It typically refers to the Big Five United States tech companies: Alphabet, Amazon, Apple, Meta, and Microsoft; or the Magnificent Seven, which includes Nvidia and Tesla. Big Tech can also include Chinese companies such as Baidu, Alibaba, Tencent, and Xiaomi (BATX).\\n\\n\\n== History ==\\nIn the 20th century, IBM and Microsoft dominated the IT industry. After the dot-com bubble wiped out most of the Nasdaq Composite stock market index, surviving tech startups expanded their market share and became dominant in their markets. The term Big Tech began to appear around 2013, when some economists speculated that a lack of regulation could lead to concentrated market power. The term Big Tech became popular following the investigation into Russian interference in the 2016 United States elections, because access to a large amount of data allowed tech companies to influence their users. The concept of Big Tech is similar to how the largest oil companies were called Big Oil following the 1970s energy crisis, and the largest cigarette producers were called Big Tobacco, as Congress sought to regulate those industries. It is also similar to how, at the turn of the 21st century, the mainstream media became dominated by a small number of corporations called Big Media or the Media Giants. In the early 2020s, software developers and cryptocurrency users responded to the perceived excesses of the tech giants by starting a movement called web3 to incorporate blockchain-based decentralization into the World Wide Web.\\n\\n\\n== Big Tech companies ==\\n\\n\\n=== U.S. companies ===\\n\\n\\n==== Alphabet ====\\nAlphabet is the parent company of Google. As of 2024, Google is the leader in online advertising (Google Ads), online search (Google Search), video sharing (YouTube), email (Gmail), web browsers (Google Chrome), web mapping (Google Maps and Waze), mobile operating systems (Android), and cloud storage (Google Drive). Google Cloud Platform is the third most popular cloud computing platform after Amazon Web Services and Microsoft Azure. Google and Meta have been called a digital advertising duopoly. Google earns 82% of its revenue and most of its profit from advertising. \\nIn addition to its Google products, Alphabet is a global leader in artificial intelligence, quantum computing, and self-driving cars. In 2019, Google claimed its Sycamore processor had achieved quantum supremacy. In 2021, Alphabet\\'s subsidiary Waymo was the first company to offer public robotaxi service. Alphabet reached $1 trillion in market capitalization for the first time in January 2020.\\n\\n\\n==== Amazon ====\\nWith Amazon Alexa and Amazon Echo, Amazon is the leader in the area of artificial intelligence-based personal digital assistants and smart speakers (Amazon Echo) with 69% market share followed by Google (Google Nest) at 25% market share. Amazon Web Services made up 59% of Amazon\\'s profit in 2020, and more than half of the company\\'s profit every year since 2014. After Amazon Elastic Compute Cloud (EC2) was released in 2006, Google developed Google App Engine (now Google Cloud Platform) and Microsoft developed Windows Azure (now Microsoft Azure).\\nAfter crossing $1 trillion during trading hours once in September 2018 and again in January 2020, Amazon closed above $1 trillion for the first time in April 2020. In November 2022, Amazon fell below $1 trillion for the first time since 2020, part of a 51% decline from $1.7 trillion at the beginning of 2022 to $834 billion at the end of the year. By May 2023, Amazon stock was again worth more than $1 trillion. In June 2024, Amazon crossed $2 trillion in market capitalization.\\n\\n\\n==== Apple ====\\nApple sells consumer electronics, including laptops, smartphones, and smartwatches. Apple shares a duopoly with Google in mobile operating systems, with Apple\\'s iOS con</Document>\\n\\n---\\n\\n<Document source=\"https://en.wikipedia.org/wiki/Nintendo_Switch\" page=\"\"/>\\nThe Nintendo Switch is a  video game console developed by Nintendo and released worldwide in most regions on March 3, 2017. Released in the middle of the eighth generation of home consoles, the Switch succeeded the Wii U and competed with Sony\\'s PlayStation 4 and Microsoft\\'s Xbox One; it also competes with the ninth generation consoles, Sony\\'s PlayStation 5 and Microsoft\\'s Xbox Series X/S.\\nThe Switch is a tablet that can either be docked for home console use or used as a portable device, making it a hybrid console. Its wireless Joy-Con controllers function as two halves of a standard controller and alternatively as individual controllers, featuring buttons, directional analog sticks for user input, motion sensing, and tactile feedback. A pair can attach to the sides of the console for handheld-style play, attach to a grip accessory to provide the form of a separated gamepad, or be used unattached. The Switch\\'s system software supports online gaming through internet connectivity, as well as local wireless ad hoc connectivity with other consoles. Switch games and software are available on both physical flash-based ROM cartridges and digital distribution via Nintendo eShop; the system has no region lockout. Two hardware revisions have been released: the handheld-only Switch Lite, released on September 20, 2019; and a higher-end version featuring an OLED screen, released on October 8, 2021.\\nThe Switch was unveiled on October 20, 2016; the concept came about as Nintendo\\'s reaction to financial losses attributed to poor sales of the Wii U and market competition from mobile games. Nintendo\\'s then-president Satoru Iwata pushed the company towards mobile gaming and novel hardware. The Switch\\'s design was aimed at a wide demographic of players through multiple modes of use. Nintendo preemptively sought the support of many third-party developers and publishers, as well as independent studios, to help build the Switch\\'s game library alongside its first-party games, while standard electronic components, such as a chipset based on Nvidia\\'s Tegra line, were chosen to make development for the console easier for programmers and more compatible with existing game engines. As of December 2024, the Nintendo Switch has shipped over 150 million units worldwide. It is Nintendo\\'s best-selling home console and the third-best-selling game console of all time, behind the PlayStation 2 and Nintendo DS. The Nintendo Switch 2, which will be backward compatible with most Switch games, is scheduled for release in 2025.\\n\\n\\n== History ==\\n\\n\\n=== Background ===\\nWhile Nintendo had record revenues, net sales, and profits in 2009 as a result of the release of the Nintendo DS and Wii in 2004 and 2006 respectively, its revenues soon declined. The company posted its first loss as a video game company in 2012 prior to the Wii U\\'s introduction that year; Nintendo had similar losses in the following years, due to the console\\'s poor reception. The New York Times attributed Nintendo lowering financial forecasts in 2014 to weak hardware sales against mobile gaming. Previously, the company was hesitant about this market, with then-president Satoru Iwata considering that they would \"cease to be Nintendo\" and lose their identity if they attempted to be a part of it. About three years prior to the Switch\\'s announcement, Iwata, Tatsumi Kimishima, Genyo Takeda, and Shigeru Miyamoto crafted a strategy for revitalizing Nintendo\\'s business model, which included approaching the mobile market, creating new hardware, and \"maximizing [their] intellectual property\". Iwata was able to secure a business alliance with Japanese mobile provider DeNA before his death. The deal developed mobile games based on Nintendo\\'s first-party franchises, believing this approach would not compromise their integrity. Following Iwata\\'s death in July 2015, Kimishima was named as president of Nintendo, while Miyamoto was promoted to the title of \"Creative Fellow\".\\n\\n\\n=== Development ===\\nThe initial conception for</Document>']}\n"
     ]
    }
   ],
   "source": [
    "result = graph.invoke({\"question\": \"what are expectations for Nvidia Q1 2025 earnings?\"})\n",
    "print(result)"
   ]
  },
  {
   "cell_type": "code",
   "execution_count": null,
   "metadata": {},
   "outputs": [],
   "source": []
  }
 ],
 "metadata": {
  "kernelspec": {
   "display_name": "venv",
   "language": "python",
   "name": "python3"
  },
  "language_info": {
   "codemirror_mode": {
    "name": "ipython",
    "version": 3
   },
   "file_extension": ".py",
   "mimetype": "text/x-python",
   "name": "python",
   "nbconvert_exporter": "python",
   "pygments_lexer": "ipython3",
   "version": "3.10.12"
  }
 },
 "nbformat": 4,
 "nbformat_minor": 2
}
