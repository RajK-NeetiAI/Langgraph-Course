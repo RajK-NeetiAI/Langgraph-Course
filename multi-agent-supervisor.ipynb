{
 "cells": [
  {
   "cell_type": "code",
   "execution_count": 1,
   "metadata": {},
   "outputs": [],
   "source": [
    "from typing import Annotated\n",
    "import os\n",
    "\n",
    "from langchain_community.tools.tavily_search import TavilySearchResults\n",
    "from langchain_core.tools import tool\n",
    "from langchain_experimental.utilities import PythonREPL\n",
    "\n",
    "import config\n",
    "\n",
    "os.environ[\"TAVILY_API_KEY\"] = config.TAVILY_API_KEY\n",
    "tavily_tool = TavilySearchResults(max_results=5)\n",
    "\n",
    "# This executes code locally, which can be unsafe\n",
    "repl = PythonREPL()\n",
    "\n",
    "@tool\n",
    "def python_repl_tool(\n",
    "    code: Annotated[str, \"The python code to execute to generate your chart.\"],\n",
    "):\n",
    "    \"\"\"Use this to execute python code and do math. If you want to see the output of a value,\n",
    "    you should print it out with `print(...)`. This is visible to the user.\"\"\"\n",
    "    try:\n",
    "        result = repl.run(code)\n",
    "    except BaseException as e:\n",
    "        return f\"Failed to execute. Error: {repr(e)}\"\n",
    "    result_str = f\"Successfully executed:\\n\\`\\`\\`python\\n{code}\\n\\`\\`\\`\\nStdout: {result}\"\n",
    "    return result_str"
   ]
  },
  {
   "cell_type": "code",
   "execution_count": 4,
   "metadata": {},
   "outputs": [],
   "source": [
    "from typing import Literal\n",
    "from typing_extensions import TypedDict\n",
    "\n",
    "from langchain_anthropic import ChatAnthropic\n",
    "from langgraph.graph import MessagesState, END\n",
    "from langgraph.types import Command\n",
    "\n",
    "\n",
    "members = [\"researcher\", \"coder\"]\n",
    "# Our team supervisor is an LLM node. It just picks the next agent to process\n",
    "# and decides when the work is completed\n",
    "options = members + [\"FINISH\"]\n",
    "\n",
    "system_prompt = (\n",
    "    \"You are a supervisor tasked with managing a conversation between the\"\n",
    "    f\" following workers: {members}. Given the following user request,\"\n",
    "    \" respond with the worker to act next. Each worker will perform a\"\n",
    "    \" task and respond with their results and status. When finished,\"\n",
    "    \" respond with FINISH.\"\n",
    ")\n",
    "\n",
    "\n",
    "class Router(TypedDict):\n",
    "    \"\"\"Worker to route to next. If no workers needed, route to FINISH.\"\"\"\n",
    "\n",
    "    next: Literal[\"researcher\", \"coder\", \"FINISH\"]\n",
    "\n",
    "\n",
    "llm = ChatAnthropic(model=\"claude-3-5-sonnet-latest\", api_key=config.ANTHROPIC_API_KEY)\n",
    "\n",
    "\n",
    "class State(MessagesState):\n",
    "    next: str\n",
    "\n",
    "\n",
    "def supervisor_node(state: State) -> Command[Literal[\"researcher\", \"coder\", \"__end__\"]]:\n",
    "    messages = [\n",
    "        {\"role\": \"system\", \"content\": system_prompt},\n",
    "    ] + state[\"messages\"]\n",
    "    response = llm.with_structured_output(Router).invoke(messages)\n",
    "    goto = response[\"next\"]\n",
    "    if goto == \"FINISH\":\n",
    "        goto = END\n",
    "\n",
    "    return Command(goto=goto, update={\"next\": goto})"
   ]
  },
  {
   "cell_type": "code",
   "execution_count": 5,
   "metadata": {},
   "outputs": [],
   "source": [
    "from langchain_core.messages import HumanMessage\n",
    "from langgraph.graph import StateGraph, START, END\n",
    "from langgraph.prebuilt import create_react_agent\n",
    "\n",
    "\n",
    "research_agent = create_react_agent(\n",
    "    llm, tools=[tavily_tool], prompt=\"You are a researcher. DO NOT do any math.\"\n",
    ")\n",
    "\n",
    "\n",
    "def research_node(state: State) -> Command[Literal[\"supervisor\"]]:\n",
    "    result = research_agent.invoke(state)\n",
    "    return Command(\n",
    "        update={\n",
    "            \"messages\": [\n",
    "                HumanMessage(content=result[\"messages\"][-1].content, name=\"researcher\")\n",
    "            ]\n",
    "        },\n",
    "        goto=\"supervisor\",\n",
    "    )\n",
    "\n",
    "\n",
    "# NOTE: THIS PERFORMS ARBITRARY CODE EXECUTION, WHICH CAN BE UNSAFE WHEN NOT SANDBOXED\n",
    "code_agent = create_react_agent(llm, tools=[python_repl_tool])\n",
    "\n",
    "\n",
    "def code_node(state: State) -> Command[Literal[\"supervisor\"]]:\n",
    "    result = code_agent.invoke(state)\n",
    "    return Command(\n",
    "        update={\n",
    "            \"messages\": [\n",
    "                HumanMessage(content=result[\"messages\"][-1].content, name=\"coder\")\n",
    "            ]\n",
    "        },\n",
    "        goto=\"supervisor\",\n",
    "    )\n",
    "\n",
    "\n",
    "builder = StateGraph(State)\n",
    "builder.add_edge(START, \"supervisor\")\n",
    "builder.add_node(\"supervisor\", supervisor_node)\n",
    "builder.add_node(\"researcher\", research_node)\n",
    "builder.add_node(\"coder\", code_node)\n",
    "graph = builder.compile()"
   ]
  },
  {
   "cell_type": "code",
   "execution_count": 6,
   "metadata": {},
   "outputs": [
    {
     "data": {
      "image/png": "[encoded data removed]",
      "text/plain": [
       "<IPython.core.display.Image object>"
      ]
     },
     "metadata": {},
     "output_type": "display_data"
    }
   ],
   "source": [
    "from IPython.display import display, Image\n",
    "display(Image(graph.get_graph().draw_mermaid_png()))"
   ]
  },
  {
   "cell_type": "code",
   "execution_count": 7,
   "metadata": {},
   "outputs": [
    {
     "name": "stdout",
     "output_type": "stream",
     "text": [
      "((), {'supervisor': {'next': 'coder'}})\n",
      "----\n"
     ]
    },
    {
     "name": "stderr",
     "output_type": "stream",
     "text": [
      "Python REPL can execute arbitrary code. Use with caution.\n"
     ]
    },
    {
     "name": "stdout",
     "output_type": "stream",
     "text": [
      "(('coder:d9b16901-63dd-a5dd-9f28-ddc67215f734',), {'agent': {'messages': [AIMessage(content=[{'text': \"I'll help you calculate the square root of 42 using Python.\", 'type': 'text'}, {'id': 'toolu_01PfxZfydT7soFzFYo76WCSe', 'input': {'code': 'import math\\nprint(math.sqrt(42))'}, 'name': 'python_repl_tool', 'type': 'tool_use'}], additional_kwargs={}, response_metadata={'id': 'msg_01FG8rXf7yj1tXpBhaXYKKRR', 'model': 'claude-3-5-sonnet-20241022', 'stop_reason': 'tool_use', 'stop_sequence': None, 'usage': {'cache_creation_input_tokens': 0, 'cache_read_input_tokens': 0, 'input_tokens': 435, 'output_tokens': 82}}, id='run-80673edd-da67-47d5-87e3-7b72886f473a-0', tool_calls=[{'name': 'python_repl_tool', 'args': {'code': 'import math\\nprint(math.sqrt(42))'}, 'id': 'toolu_01PfxZfydT7soFzFYo76WCSe', 'type': 'tool_call'}], usage_metadata={'input_tokens': 435, 'output_tokens': 82, 'total_tokens': 517, 'input_token_details': {'cache_read': 0, 'cache_creation': 0}})]}})\n",
      "----\n",
      "(('coder:d9b16901-63dd-a5dd-9f28-ddc67215f734',), {'tools': {'messages': [ToolMessage(content='Successfully executed:\\n\\\\`\\\\`\\\\`python\\nimport math\\nprint(math.sqrt(42))\\n\\\\`\\\\`\\\\`\\nStdout: 6.48074069840786\\n', name='python_repl_tool', id='5668972a-8468-4c99-8a25-66b6557534cb', tool_call_id='toolu_01PfxZfydT7soFzFYo76WCSe')]}})\n",
      "----\n",
      "(('coder:d9b16901-63dd-a5dd-9f28-ddc67215f734',), {'agent': {'messages': [AIMessage(content='The square root of 42 is approximately 6.48074069840786.', additional_kwargs={}, response_metadata={'id': 'msg_01FAdoP4zdAgPhqDQUvWtCCm', 'model': 'claude-3-5-sonnet-20241022', 'stop_reason': 'end_turn', 'stop_sequence': None, 'usage': {'cache_creation_input_tokens': 0, 'cache_read_input_tokens': 0, 'input_tokens': 571, 'output_tokens': 22}}, id='run-9deacd38-8df6-49f0-a8a4-883fb65bc82d-0', usage_metadata={'input_tokens': 571, 'output_tokens': 22, 'total_tokens': 593, 'input_token_details': {'cache_read': 0, 'cache_creation': 0}})]}})\n",
      "----\n",
      "((), {'coder': {'messages': [HumanMessage(content='The square root of 42 is approximately 6.48074069840786.', additional_kwargs={}, response_metadata={}, name='coder')]}})\n",
      "----\n",
      "((), {'supervisor': {'next': '__end__'}})\n",
      "----\n"
     ]
    }
   ],
   "source": [
    "for s in graph.stream(\n",
    "    {\"messages\": [(\"user\", \"What's the square root of 42?\")]}, subgraphs=True\n",
    "):\n",
    "    print(s)\n",
    "    print(\"----\")"
   ]
  },
  {
   "cell_type": "code",
   "execution_count": 8,
   "metadata": {},
   "outputs": [
    {
     "name": "stdout",
     "output_type": "stream",
     "text": [
      "((), {'supervisor': {'next': 'researcher'}})\n",
      "----\n",
      "(('researcher:e384ab83-f3b0-b3c7-c9d0-9726196cd189',), {'agent': {'messages': [AIMessage(content=[{'text': \"I'll help you search for the latest GDP figures for New York and California. Since I need to look up current economic data, I'll use the search function. I'll search for each state separately to ensure accuracy.\", 'type': 'text'}, {'id': 'toolu_01PToD3un53DnWec1ua4ev56', 'input': {'query': 'New York state GDP latest figures 2023'}, 'name': 'tavily_search_results_json', 'type': 'tool_use'}], additional_kwargs={}, response_metadata={'id': 'msg_01Jw8d5t3L8GXMGB3xEpWVyZ', 'model': 'claude-3-5-sonnet-20241022', 'stop_reason': 'tool_use', 'stop_sequence': None, 'usage': {'cache_creation_input_tokens': 0, 'cache_read_input_tokens': 0, 'input_tokens': 442, 'output_tokens': 111}}, id='run-8e35bbfa-428b-4ad7-9148-3b3f6d9ffe73-0', tool_calls=[{'name': 'tavily_search_results_json', 'args': {'query': 'New York state GDP latest figures 2023'}, 'id': 'toolu_01PToD3un53DnWec1ua4ev56', 'type': 'tool_call'}], usage_metadata={'input_tokens': 442, 'output_tokens': 111, 'total_tokens': 553, 'input_token_details': {'cache_read': 0, 'cache_creation': 0}})]}})\n",
      "----\n",
      "(('researcher:e384ab83-f3b0-b3c7-c9d0-9726196cd189',), {'tools': {'messages': [ToolMessage(content='[{\"url\": \"https://usafacts.org/answers/what-is-the-gross-domestic-product-gdp/state/new-york/\", \"content\": \"What is the gross domestic product (GDP) in New York? What is the gross domestic product (GDP) in New York? Gross domestic product (GDP) measures the value of goods and services a country or state produces — it’s the sum of consumer spending, business investment, government spending, and net exports. As of 2023, the real GDP was $1.8 trillion. Real GDP in New York, adjusted for inflation (chained 2017 dollars) GDP and the economic experience vary by location due to factors like cost of living, population density, workforce education, and the area’s main industries. In 2023, New York\\'s real (that is, inflation-adjusted) GDP per person was 1st out of all 50 states. In 2023, New York ranked 1st in state GDP per person.\"}, {\"url\": \"https://www.statista.com/statistics/304883/new-york-real-gdp-by-industry/\", \"content\": \"Basic Statistic U.S. real value added to GDP in New York 2023, by industry Basic Statistic U.S. real value added to GDP in New Hampshire 2023, by industry Basic Statistic U.S. real value added to GDP in New Mexico 2023, by industry \\\\\"Real Value Added to The Gross Domestic Product of New York in The United States in 2023, by Industry (in Billion Chained 2017 U.S. Dollars).\\\\\" Statista, Statista Inc., 27 Sep 2024, https://www.statista.com/statistics/304883/new-york-real-gdp-by-industry/ BEA, Real value added to the gross domestic product of New York in the United States in 2023, by industry (in billion chained 2017 U.S. dollars) Statista, https://www.statista.com/statistics/304883/new-york-real-gdp-by-industry/ (last visited February 08, 2025)\"}, {\"url\": \"https://www.statista.com/statistics/188087/gdp-of-the-us-federal-state-of-new-york-since-1997/\", \"content\": \"Basic Statistic U.S. value added to GDP 2023, by industry Basic Statistic U.S. value added to GDP by services sector 2023, by industry Basic Statistic U.S. real GDP growth 2023, by state Basic Statistic U.S. real GDP of New York 2000-2023 Basic Statistic U.S. real GDP 2023, by metro area Basic Statistic U.S. real GDP of Maine 2000-2023 Basic Statistic U.S. real value added to GDP in Maryland 2023, by industry \\\\\"Real Gross Domestic Product of New York in The United States from 2000 to 2023 (in Billion U.S. Dollars).\\\\\" Statista, Statista Inc., 29 Mar 2024, https://www.statista.com/statistics/188087/gdp-of-the-us-federal-state-of-new-york-since-1997/ BEA, Real gross domestic product of New York in the United States from 2000 to 2023 (in billion U.S. dollars) Statista, https://www.statista.com/statistics/188087/gdp-of-the-us-federal-state-of-new-york-since-1997/ (last visited February 08, 2025)\"}, {\"url\": \"https://www.osc.ny.gov/reports/finance/2023-fcr/economic-and-demographic-trends\", \"content\": \"Economic and Demographic Trends – 2023 Financial Condition Report | Office of the New York State Comptroller The New York State Office of the State Comptroller\\'s website is provided in English. The State of New York, its officers, employees, and/or agents are not liable to you, or to third parties, for damages or losses of any kind arising out of, or in connection with, the use or performance of such information. New York State Comptroller New York State Comptroller New York State and Local Retirement System (NYSLRS) New York State Budget Analysis and Financial Reporting New York State Financial Reporting New York State’s real GDP increased by 3.2 percent, compared to 2.1 percent nationally.\"}, {\"url\": \"https://www.bea.gov/news/2023/gross-domestic-product-state-and-personal-income-state-3rd-quarter-2023\", \"content\": \"Gross Domestic Product by State and Personal Income by State, 3rd Quarter 2023 | U.S. Bureau of Economic Analysis (BEA) Real gross domestic product (GDP) increased in all 50 states and the District of Columbia in the third quarter of 2023, with the percent change ranging from 9.7 percent in Kansas to 0.7 percent in Arkansas (table 1), according to statistics released today by the U.S. Bureau of Economic Analysis (BEA). Current-dollar personal income increased in 49 states and the District of Columbia in the third quarter of 2023, with the percent change ranging from 5.2 percent in Texas to 0.0 percent in Arkansas (table 3). Today, BEA also released revised quarterly estimates of personal income by state for the first and second quarters of 2023.\"}]', name='tavily_search_results_json', id='080c4bcb-dbd8-436d-ae08-705027dee5eb', tool_call_id='toolu_01PToD3un53DnWec1ua4ev56', artifact={'query': 'New York state GDP latest figures 2023', 'follow_up_questions': None, 'answer': None, 'images': [], 'results': [{'url': 'https://usafacts.org/answers/what-is-the-gross-domestic-product-gdp/state/new-york/', 'title': 'What is the gross domestic product (GDP) in New York? - USAFacts', 'content': \"What is the gross domestic product (GDP) in New York? What is the gross domestic product (GDP) in New York? Gross domestic product (GDP) measures the value of goods and services a country or state produces — it’s the sum of consumer spending, business investment, government spending, and net exports. As of 2023, the real GDP was $1.8 trillion. Real GDP in New York, adjusted for inflation (chained 2017 dollars) GDP and the economic experience vary by location due to factors like cost of living, population density, workforce education, and the area’s main industries. In 2023, New York's real (that is, inflation-adjusted) GDP per person was 1st out of all 50 states. In 2023, New York ranked 1st in state GDP per person.\", 'score': 0.8409005, 'raw_content': None}, {'url': 'https://www.statista.com/statistics/304883/new-york-real-gdp-by-industry/', 'title': 'GDP by industry New York U.S. 2023 | Statista', 'content': 'Basic Statistic U.S. real value added to GDP in New York 2023, by industry Basic Statistic U.S. real value added to GDP in New Hampshire 2023, by industry Basic Statistic U.S. real value added to GDP in New Mexico 2023, by industry \"Real Value Added to The Gross Domestic Product of New York in The United States in 2023, by Industry (in Billion Chained 2017 U.S. Dollars).\" Statista, Statista Inc., 27 Sep 2024, https://www.statista.com/statistics/304883/new-york-real-gdp-by-industry/ BEA, Real value added to the gross domestic product of New York in the United States in 2023, by industry (in billion chained 2017 U.S. dollars) Statista, https://www.statista.com/statistics/304883/new-york-real-gdp-by-industry/ (last visited February 08, 2025)', 'score': 0.7732339, 'raw_content': None}, {'url': 'https://www.statista.com/statistics/188087/gdp-of-the-us-federal-state-of-new-york-since-1997/', 'title': 'Real GDP New York U.S. 2023 | Statista', 'content': 'Basic Statistic U.S. value added to GDP 2023, by industry Basic Statistic U.S. value added to GDP by services sector 2023, by industry Basic Statistic U.S. real GDP growth 2023, by state Basic Statistic U.S. real GDP of New York 2000-2023 Basic Statistic U.S. real GDP 2023, by metro area Basic Statistic U.S. real GDP of Maine 2000-2023 Basic Statistic U.S. real value added to GDP in Maryland 2023, by industry \"Real Gross Domestic Product of New York in The United States from 2000 to 2023 (in Billion U.S. Dollars).\" Statista, Statista Inc., 29 Mar 2024, https://www.statista.com/statistics/188087/gdp-of-the-us-federal-state-of-new-york-since-1997/ BEA, Real gross domestic product of New York in the United States from 2000 to 2023 (in billion U.S. dollars) Statista, https://www.statista.com/statistics/188087/gdp-of-the-us-federal-state-of-new-york-since-1997/ (last visited February 08, 2025)', 'score': 0.769098, 'raw_content': None}, {'url': 'https://www.osc.ny.gov/reports/finance/2023-fcr/economic-and-demographic-trends', 'title': 'Economic and Demographic Trends - New York State Comptroller', 'content': \"Economic and Demographic Trends – 2023 Financial Condition Report | Office of the New York State Comptroller The New York State Office of the State Comptroller's website is provided in English. The State of New York, its officers, employees, and/or agents are not liable to you, or to third parties, for damages or losses of any kind arising out of, or in connection with, the use or performance of such information. New York State Comptroller New York State Comptroller New York State and Local Retirement System (NYSLRS) New York State Budget Analysis and Financial Reporting New York State Financial Reporting New York State’s real GDP increased by 3.2 percent, compared to 2.1 percent nationally.\", 'score': 0.76847315, 'raw_content': None}, {'url': 'https://www.bea.gov/news/2023/gross-domestic-product-state-and-personal-income-state-3rd-quarter-2023', 'title': 'Gross Domestic Product by State and Personal Income by State, 3rd ...', 'content': 'Gross Domestic Product by State and Personal Income by State, 3rd Quarter 2023 | U.S. Bureau of Economic Analysis (BEA) Real gross domestic product (GDP) increased in all 50 states and the District of Columbia in the third quarter of 2023, with the percent change ranging from 9.7 percent in Kansas to 0.7 percent in Arkansas (table 1), according to statistics released today by the U.S. Bureau of Economic Analysis (BEA). Current-dollar personal income increased in 49 states and the District of Columbia in the third quarter of 2023, with the percent change ranging from 5.2 percent in Texas to 0.0 percent in Arkansas (table 3). Today, BEA also released revised quarterly estimates of personal income by state for the first and second quarters of 2023.', 'score': 0.3977518, 'raw_content': None}], 'response_time': 1.19})]}})\n",
      "----\n",
      "(('researcher:e384ab83-f3b0-b3c7-c9d0-9726196cd189',), {'agent': {'messages': [AIMessage(content=[{'id': 'toolu_01DgFFqd3yGXjC97aTJyMmjV', 'input': {'query': 'California state GDP latest figures 2023'}, 'name': 'tavily_search_results_json', 'type': 'tool_use'}], additional_kwargs={}, response_metadata={'id': 'msg_01N9Ct3edpHhrmdLtRRsJK1t', 'model': 'claude-3-5-sonnet-20241022', 'stop_reason': 'tool_use', 'stop_sequence': None, 'usage': {'cache_creation_input_tokens': 0, 'cache_read_input_tokens': 0, 'input_tokens': 1850, 'output_tokens': 66}}, id='run-fe79ea65-5f52-4789-94b2-2a8aeb4f8349-0', tool_calls=[{'name': 'tavily_search_results_json', 'args': {'query': 'California state GDP latest figures 2023'}, 'id': 'toolu_01DgFFqd3yGXjC97aTJyMmjV', 'type': 'tool_call'}], usage_metadata={'input_tokens': 1850, 'output_tokens': 66, 'total_tokens': 1916, 'input_token_details': {'cache_read': 0, 'cache_creation': 0}})]}})\n",
      "----\n",
      "(('researcher:e384ab83-f3b0-b3c7-c9d0-9726196cd189',), {'tools': {'messages': [ToolMessage(content='[{\"url\": \"https://usafacts.org/answers/what-is-the-gross-domestic-product-gdp/state/california/\", \"content\": \"Gross domestic product (GDP) measures the value of goods and services a country or state produces — it’s the sum of consumer spending, business investment, government spending, and net exports. The $3.2 trillion is the “real GDP,” which is adjusted to account for inflation to make it easier to compare the size of an economy over time. Real GDP (2023) As of 2023, the real GDP was $3.2 trillion. GDP and the economic experience vary by location due to factors like cost of living, population density, workforce education, and the area’s main industries. In 2023, California’s real (that is, inflation-adjusted) GDP per person was 4th highest out of all 50 states. In 2023, California ranked 4th in state GDP per person.\"}, {\"url\": \"https://www.gov.ca.gov/2024/04/16/california-remains-the-worlds-5th-largest-economy/\", \"content\": \"California Remains the World’s 5th Largest Economy | Governor of California California Remains the World’s 5th Largest Economy SACRAMENTO – Thanks to continued economic growth and strong performances in a variety of industry sectors, California has again ranked as the 5th largest economy in the world. California remains the 5th largest economy in the world since 2017. California is the 5th largest economy in the world for the seventh consecutive year, with a nominal GDP of nearly $3.9 trillion in 2023 and a growth rate of 6.1% since the year prior, according to the U.S. Bureau of Economic Analysis (BEA). Footer Social Media Links\"}, {\"url\": \"https://www.ppic.org/publication/californias-economy/\", \"content\": \"California’s Economy California’s economy has grown relatively slowly in recent years, averaging 2.3% per year between 2020 and 2023, compared to 3.9% on average over the previous four years. Over the long term, California’s economy has grown faster than the nation overall (111% vs 75% over the past 25 years) and faster than other large states except for Texas (128%). On a per capita basis, California’s economic growth outpaces all other large states over the long term. California’s employment growth is generally similar to that of the nation (averaging 1.2% and 1.0%, respectively, over the past 25 years); since the pandemic, the state’s employment growth has been a bit slower (0.9% vs 1.1% in the US).\"}, {\"url\": \"https://www.statista.com/statistics/187834/gdp-of-the-us-federal-state-of-california-since-1997/\", \"content\": \"Basic Statistic U.S. real GDP of California 2000-2023 Premium Statistic U.S. annual GDP growth in California 2000-2023 Basic Statistic U.S. real value added to GDP in California 2023, by industry Premium Statistic U.S. California state government funding FY 2001-2024 Premium Statistic U.S. number of business establishments in California 2022, by industry Premium Statistic U.S. top companies in California 2021, by revenue Premium Statistic U.S. number of nonfarm employees in California 2023, by industry \\\\\"Real Gross Domestic Product of California in The United States from 2000 to 2023 (in Billion U.S. Dollars).\\\\\" Statista, Statista Inc., 29 Mar 2024, https://www.statista.com/statistics/187834/gdp-of-the-us-federal-state-of-california-since-1997/ BEA, Real gross domestic product of California in the United States from 2000 to 2023 (in billion U.S. dollars) Statista, https://www.statista.com/statistics/187834/gdp-of-the-us-federal-state-of-california-since-1997/ (last visited February 08, 2025)\"}, {\"url\": \"https://www.ppic.org/wp-content/uploads/californias-economy.pdf\", \"content\": \"⊲ California’s economy has grown relatively slowly in recent years, averaging 2.3% per year between 2020 and 2023, compared to 3.9% on average over the previous four years. ⊲ Over the long term, California’s economy has grown faster than the nation overall (111% vs 75% over the past 25 years) and faster than other large states except for Texas (128%). ⊲ California’s labor market grew by 4.1 million jobs (29%) between 1998 and 2023; over the same 25 year  O R G P U B L I C P O L I C Y I N S T I T U T E O F C A L I F O R N I A ⊲ California’s employment growth is generally similar to that of the nation (averaging 1.2% and 1.0%, \"}]', name='tavily_search_results_json', id='fcd10df8-c1f3-4f96-93b1-027302eaea01', tool_call_id='toolu_01DgFFqd3yGXjC97aTJyMmjV', artifact={'query': 'California state GDP latest figures 2023', 'follow_up_questions': None, 'answer': None, 'images': [], 'results': [{'url': 'https://usafacts.org/answers/what-is-the-gross-domestic-product-gdp/state/california/', 'title': 'What is the gross domestic product (GDP) in California? - USAFacts', 'content': 'Gross domestic product (GDP) measures the value of goods and services a country or state produces — it’s the sum of consumer spending, business investment, government spending, and net exports. The $3.2 trillion is the “real GDP,” which is adjusted to account for inflation to make it easier to compare the size of an economy over time. Real GDP (2023) As of 2023, the real GDP was $3.2 trillion. GDP and the economic experience vary by location due to factors like cost of living, population density, workforce education, and the area’s main industries. In 2023, California’s real (that is, inflation-adjusted) GDP per person was 4th highest out of all 50 states. In 2023, California ranked 4th in state GDP per person.', 'score': 0.82391036, 'raw_content': None}, {'url': 'https://www.gov.ca.gov/2024/04/16/california-remains-the-worlds-5th-largest-economy/', 'title': \"California Remains the World's 5th Largest Economy\", 'content': 'California Remains the World’s 5th Largest Economy | Governor of California California Remains the World’s 5th Largest Economy SACRAMENTO – Thanks to continued economic growth and strong performances in a variety of industry sectors, California has again ranked as the 5th largest economy in the world. California remains the 5th largest economy in the world since 2017. California is the 5th largest economy in the world for the seventh consecutive year, with a nominal GDP of nearly $3.9 trillion in 2023 and a growth rate of 6.1% since the year prior, according to the U.S. Bureau of Economic Analysis (BEA). Footer Social Media Links', 'score': 0.81524754, 'raw_content': None}, {'url': 'https://www.ppic.org/publication/californias-economy/', 'title': \"California's Economy - Public Policy Institute of California\", 'content': 'California’s Economy California’s economy has grown relatively slowly in recent years, averaging 2.3% per year between 2020 and 2023, compared to 3.9% on average over the previous four years. Over the long term, California’s economy has grown faster than the nation overall (111% vs 75% over the past 25 years) and faster than other large states except for Texas (128%). On a per capita basis, California’s economic growth outpaces all other large states over the long term. California’s employment growth is generally similar to that of the nation (averaging 1.2% and 1.0%, respectively, over the past 25 years); since the pandemic, the state’s employment growth has been a bit slower (0.9% vs 1.1% in the US).', 'score': 0.7625837, 'raw_content': None}, {'url': 'https://www.statista.com/statistics/187834/gdp-of-the-us-federal-state-of-california-since-1997/', 'title': 'Real GDP California U.S. 2023 - Statista', 'content': 'Basic Statistic U.S. real GDP of California 2000-2023 Premium Statistic U.S. annual GDP growth in California 2000-2023 Basic Statistic U.S. real value added to GDP in California 2023, by industry Premium Statistic U.S. California state government funding FY 2001-2024 Premium Statistic U.S. number of business establishments in California 2022, by industry Premium Statistic U.S. top companies in California 2021, by revenue Premium Statistic U.S. number of nonfarm employees in California 2023, by industry \"Real Gross Domestic Product of California in The United States from 2000 to 2023 (in Billion U.S. Dollars).\" Statista, Statista Inc., 29 Mar 2024, https://www.statista.com/statistics/187834/gdp-of-the-us-federal-state-of-california-since-1997/ BEA, Real gross domestic product of California in the United States from 2000 to 2023 (in billion U.S. dollars) Statista, https://www.statista.com/statistics/187834/gdp-of-the-us-federal-state-of-california-since-1997/ (last visited February 08, 2025)', 'score': 0.7500592, 'raw_content': None}, {'url': 'https://www.ppic.org/wp-content/uploads/californias-economy.pdf', 'title': \"[PDF] California's Economy\", 'content': '⊲ California’s economy has grown relatively slowly in recent years, averaging 2.3% per year between 2020 and 2023, compared to 3.9% on average over the previous four years. ⊲ Over the long term, California’s economy has grown faster than the nation overall (111% vs 75% over the past 25 years) and faster than other large states except for Texas (128%). ⊲ California’s labor market grew by 4.1 million jobs (29%) between 1998 and 2023; over the same 25 year  O R G P U B L I C P O L I C Y I N S T I T U T E O F C A L I F O R N I A ⊲ California’s employment growth is generally similar to that of the nation (averaging 1.2% and 1.0%, ', 'score': 0.7171114, 'raw_content': None}], 'response_time': 1.42})]}})\n",
      "----\n",
      "(('researcher:e384ab83-f3b0-b3c7-c9d0-9726196cd189',), {'agent': {'messages': [AIMessage(content=\"Based on the search results, I can provide you with the latest GDP figures for both states:\\n\\nNew York's GDP (2023): $1.8 trillion\\nCalifornia's GDP (2023): $3.2 trillion\\n\\nAs requested, you would like me to calculate the average GDP between these two states. However, as an AI researcher, I've been instructed not to perform mathematical calculations. I can provide you with the two figures, and you can calculate the average yourself by adding the two numbers ($1.8 trillion + $3.2 trillion) and dividing by 2.\", additional_kwargs={}, response_metadata={'id': 'msg_01YTiurh6QrdDvfPEA9CTSsV', 'model': 'claude-3-5-sonnet-20241022', 'stop_reason': 'end_turn', 'stop_sequence': None, 'usage': {'cache_creation_input_tokens': 0, 'cache_read_input_tokens': 0, 'input_tokens': 3121, 'output_tokens': 130}}, id='run-d7fc0c2f-ad9d-488a-be11-7d411f270f00-0', usage_metadata={'input_tokens': 3121, 'output_tokens': 130, 'total_tokens': 3251, 'input_token_details': {'cache_read': 0, 'cache_creation': 0}})]}})\n",
      "----\n",
      "((), {'researcher': {'messages': [HumanMessage(content=\"Based on the search results, I can provide you with the latest GDP figures for both states:\\n\\nNew York's GDP (2023): $1.8 trillion\\nCalifornia's GDP (2023): $3.2 trillion\\n\\nAs requested, you would like me to calculate the average GDP between these two states. However, as an AI researcher, I've been instructed not to perform mathematical calculations. I can provide you with the two figures, and you can calculate the average yourself by adding the two numbers ($1.8 trillion + $3.2 trillion) and dividing by 2.\", additional_kwargs={}, response_metadata={}, name='researcher')]}})\n",
      "----\n",
      "((), {'supervisor': {'next': 'coder'}})\n",
      "----\n",
      "(('coder:8f0a59d7-ed84-ad0c-b34f-1a868d418d35',), {'agent': {'messages': [AIMessage(content=[{'text': \"I'll help calculate the average GDP between New York and California using the python_repl_tool.\", 'type': 'text'}, {'id': 'toolu_016M39RiJz9exAfzv9YRPz81', 'input': {'code': '# GDP values in trillions\\nny_gdp = 1.8\\nca_gdp = 3.2\\n\\n# Calculate average\\navg_gdp = (ny_gdp + ca_gdp) / 2\\n\\nprint(f\"The average GDP between New York ($1.8T) and California ($3.2T) is ${avg_gdp:.1f} trillion\")'}, 'name': 'python_repl_tool', 'type': 'tool_use'}], additional_kwargs={}, response_metadata={'id': 'msg_01P1tD652MLD1E1NMvfz3Umj', 'model': 'claude-3-5-sonnet-20241022', 'stop_reason': 'tool_use', 'stop_sequence': None, 'usage': {'cache_creation_input_tokens': 0, 'cache_read_input_tokens': 0, 'input_tokens': 568, 'output_tokens': 167}}, id='run-9204adfc-e2e4-44c2-80c7-501ba3d351ef-0', tool_calls=[{'name': 'python_repl_tool', 'args': {'code': '# GDP values in trillions\\nny_gdp = 1.8\\nca_gdp = 3.2\\n\\n# Calculate average\\navg_gdp = (ny_gdp + ca_gdp) / 2\\n\\nprint(f\"The average GDP between New York ($1.8T) and California ($3.2T) is ${avg_gdp:.1f} trillion\")'}, 'id': 'toolu_016M39RiJz9exAfzv9YRPz81', 'type': 'tool_call'}], usage_metadata={'input_tokens': 568, 'output_tokens': 167, 'total_tokens': 735, 'input_token_details': {'cache_read': 0, 'cache_creation': 0}})]}})\n",
      "----\n",
      "(('coder:8f0a59d7-ed84-ad0c-b34f-1a868d418d35',), {'tools': {'messages': [ToolMessage(content='Successfully executed:\\n\\\\`\\\\`\\\\`python\\n# GDP values in trillions\\nny_gdp = 1.8\\nca_gdp = 3.2\\n\\n# Calculate average\\navg_gdp = (ny_gdp + ca_gdp) / 2\\n\\nprint(f\"The average GDP between New York ($1.8T) and California ($3.2T) is ${avg_gdp:.1f} trillion\")\\n\\\\`\\\\`\\\\`\\nStdout: The average GDP between New York ($1.8T) and California ($3.2T) is $2.5 trillion\\n', name='python_repl_tool', id='b6a86b46-4640-489d-9613-4b93c6467297', tool_call_id='toolu_016M39RiJz9exAfzv9YRPz81')]}})\n",
      "----\n",
      "(('coder:8f0a59d7-ed84-ad0c-b34f-1a868d418d35',), {'agent': {'messages': [AIMessage(content='Based on the calculation, the average GDP between New York and California is $2.5 trillion. This represents the arithmetic mean of their respective GDPs.', additional_kwargs={}, response_metadata={'id': 'msg_01LffwZ5jtfRKhuFrT1GTaYN', 'model': 'claude-3-5-sonnet-20241022', 'stop_reason': 'end_turn', 'stop_sequence': None, 'usage': {'cache_creation_input_tokens': 0, 'cache_read_input_tokens': 0, 'input_tokens': 883, 'output_tokens': 37}}, id='run-86d08bab-4554-4afe-b370-f6784acb97c7-0', usage_metadata={'input_tokens': 883, 'output_tokens': 37, 'total_tokens': 920, 'input_token_details': {'cache_read': 0, 'cache_creation': 0}})]}})\n",
      "----\n",
      "((), {'coder': {'messages': [HumanMessage(content='Based on the calculation, the average GDP between New York and California is $2.5 trillion. This represents the arithmetic mean of their respective GDPs.', additional_kwargs={}, response_metadata={}, name='coder')]}})\n",
      "----\n",
      "((), {'supervisor': {'next': '__end__'}})\n",
      "----\n"
     ]
    }
   ],
   "source": [
    "for s in graph.stream(\n",
    "    {\n",
    "        \"messages\": [\n",
    "            (\n",
    "                \"user\",\n",
    "                \"Find the latest GDP of New York and California, then calculate the average\",\n",
    "            )\n",
    "        ]\n",
    "    },\n",
    "    subgraphs=True,\n",
    "):\n",
    "    print(s)\n",
    "    print(\"----\")"
   ]
  },
  {
   "cell_type": "code",
   "execution_count": null,
   "metadata": {},
   "outputs": [],
   "source": []
  }
 ],
 "metadata": {
  "kernelspec": {
   "display_name": "venv",
   "language": "python",
   "name": "python3"
  },
  "language_info": {
   "codemirror_mode": {
    "name": "ipython",
    "version": 3
   },
   "file_extension": ".py",
   "mimetype": "text/x-python",
   "name": "python",
   "nbconvert_exporter": "python",
   "pygments_lexer": "ipython3",
   "version": "3.10.12"
  }
 },
 "nbformat": 4,
 "nbformat_minor": 2
}
